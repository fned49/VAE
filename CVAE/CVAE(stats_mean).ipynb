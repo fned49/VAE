{
 "cells": [
  {
   "cell_type": "code",
   "execution_count": null,
   "metadata": {},
   "outputs": [],
   "source": [
    "import torch\n",
    "from torch import nn\n",
    "from torch.nn import functional as F\n",
    "from torch.utils.data import DataLoader\n",
    "from torchvision import datasets, transforms\n",
    "from torchvision.utils import make_grid\n",
    "import matplotlib.pyplot as plt\n",
    "import numpy as np\n",
    "from collections import defaultdict\n",
    "\n",
    "# torch.rand(): 0~1 사이의 실수에서 난수를 생성해서 텐서를 만듦 \n",
    "# torch.rand_like(input): 인풋과 같은 형태(shape)로 0~1 사이의 실수에서 난수를 생성해서 텐서를 만듦"
   ]
  },
  {
   "cell_type": "code",
   "execution_count": null,
   "metadata": {},
   "outputs": [],
   "source": [
    "torch.manual_seed(975)\n",
    "device = torch.device(\"cuda\" if torch.cuda.is_available() else \"cpu\")"
   ]
  },
  {
   "cell_type": "code",
   "execution_count": null,
   "metadata": {},
   "outputs": [],
   "source": [
    "batch_size = 64\n",
    "epochs = 50\n",
    "log_interval = 100\n",
    "learning_rate = 1e-3\n",
    "latent_dim = 20\n",
    "num_classes = 10\n",
    "input_dim = 784"
   ]
  },
  {
   "cell_type": "code",
   "execution_count": null,
   "metadata": {},
   "outputs": [],
   "source": [
    "transform = transforms.Compose([\n",
    "    transforms.ToTensor(),\n",
    "    # transforms.Normalize((0.5,), (0.5,))\n",
    "    ])\n",
    "\n",
    "train_loader = DataLoader(datasets.MNIST('./data', train=True, download=True, transform=transform),\n",
    "                          batch_size=batch_size, shuffle=True)"
   ]
  },
  {
   "cell_type": "code",
   "execution_count": null,
   "metadata": {},
   "outputs": [],
   "source": [
    "class CVAE(nn.Module):\n",
    "    def __init__(self):\n",
    "        super(CVAE, self).__init__()\n",
    "        # 인코더\n",
    "        self.fc1 = nn.Linear(input_dim + num_classes, 512)\n",
    "        self.fc21 = nn.Linear(512, latent_dim)\n",
    "        self.fc22 = nn.Linear(512, latent_dim)\n",
    "        # 디코더\n",
    "        self.fc3 = nn.Linear(latent_dim + num_classes, 512)\n",
    "        self.fc4 = nn.Linear(512, input_dim)\n",
    "\n",
    "    def encode(self, x, labels):\n",
    "        combined = torch.cat([x, labels], dim=1)\n",
    "        h1 = F.relu(self.fc1(combined))\n",
    "        return self.fc21(h1), self.fc22(h1)\n",
    "\n",
    "    def reparameterize(self, mu, logvar):\n",
    "        std = torch.exp(0.5*logvar)\n",
    "        eps = torch.randn_like(std)\n",
    "        return mu + eps * std\n",
    "\n",
    "    def decode(self, z, labels):\n",
    "        combined = torch.cat([z, labels], dim=1)\n",
    "        h3 = F.relu(self.fc3(combined))\n",
    "        return torch.sigmoid(self.fc4(h3))\n",
    "\n",
    "    def forward(self, x, labels):\n",
    "        mu, logvar = self.encode(x.view(-1, 784), labels)\n",
    "        z = self.reparameterize(mu, logvar)\n",
    "        return self.decode(z, labels), mu, logvar\n"
   ]
  },
  {
   "cell_type": "code",
   "execution_count": null,
   "metadata": {},
   "outputs": [],
   "source": [
    "def loss_function(recon_x, x, mu, logvar):\n",
    "    # x를 평탄화하여 recon_x와 동일한 차원으로 만듦\n",
    "    x_flat = x.view(-1, 784)\n",
    "    BCE = F.binary_cross_entropy(recon_x, x_flat, reduction='sum')\n",
    "    \n",
    "    # KL 발산\n",
    "    KLD = -0.5 * torch.sum(1 + logvar - mu.pow(2) - logvar.exp())\n",
    "\n",
    "    return BCE + KLD\n"
   ]
  },
  {
   "cell_type": "code",
   "execution_count": null,
   "metadata": {},
   "outputs": [],
   "source": [
    "model = CVAE()\n",
    "model.to(device)\n",
    "optimizer = torch.optim.Adam(model.parameters(), lr=1e-3)\n"
   ]
  },
  {
   "cell_type": "code",
   "execution_count": null,
   "metadata": {},
   "outputs": [],
   "source": [
    "class_latent_stats = defaultdict(lambda: {'mu': [], 'logvar': []})\n",
    "\n",
    "def train(model, train_loader, optimizer, epoch):\n",
    "    model.train()\n",
    "    train_loss = 0\n",
    "    for batch_idx, (data, target) in enumerate(train_loader):\n",
    "        data = data.to(device)\n",
    "        target = target.to(device)\n",
    "        optimizer.zero_grad()\n",
    "\n",
    "        labels = torch.zeros(target.size(0), num_classes).to(device).scatter_(1, target.unsqueeze(1), 1)\n",
    "        recon_batch, mu, logvar = model(data, labels)\n",
    "\n",
    "        loss = loss_function(recon_batch, data, mu, logvar)\n",
    "        loss.backward()\n",
    "        optimizer.step()\n",
    "        train_loss += loss.item()\n",
    "        \n",
    "        # 클래스별 잠재 변수 평균과 분산 수집\n",
    "        for i in range(len(target)):\n",
    "            label = target[i].item()\n",
    "            class_latent_stats[label]['mu'].append(mu[i].detach().cpu().numpy())\n",
    "            class_latent_stats[label]['logvar'].append(logvar[i].detach().cpu().numpy())\n",
    "    \n",
    "    average_loss = train_loss / len(train_loader.dataset)\n",
    "    print(f'Epoch {epoch}, Average loss: {average_loss:.4f}')\n"
   ]
  },
  {
   "cell_type": "code",
   "execution_count": null,
   "metadata": {},
   "outputs": [],
   "source": [
    "def visualize_class_samples(model, class_label, num_samples):\n",
    "    model.eval()\n",
    "    with torch.no_grad():\n",
    "        # 클래스별 평균과 분산 계산\n",
    "        class_mu = np.mean(class_latent_stats[class_label]['mu'], axis=0)\n",
    "        class_logvar = np.mean(class_latent_stats[class_label]['logvar'], axis=0)\n",
    "        class_std = np.exp(0.5 * class_logvar)\n",
    "\n",
    "        # 클래스별 정규 분포에서 샘플링\n",
    "        z = torch.randn(num_samples, latent_dim).to(device)\n",
    "        z = z * torch.from_numpy(class_std).float().to(device) + torch.from_numpy(class_mu).float().to(device)\n",
    "\n",
    "        # 디코더를 통해 이미지 생성\n",
    "        recon_images = model.decode(z, torch.eye(num_classes)[class_label].to(device).repeat(num_samples, 1)).cpu()\n",
    "\n",
    "        # 시각화\n",
    "        plt.figure(figsize=(10, 10))\n",
    "        for i in range(num_samples):\n",
    "            plt.subplot(5, 5, i + 1)\n",
    "            plt.imshow(recon_images[i].reshape(28, 28), cmap='gray')\n",
    "            plt.axis('off')\n",
    "        plt.show()"
   ]
  },
  {
   "cell_type": "code",
   "execution_count": null,
   "metadata": {},
   "outputs": [],
   "source": [
    "for epoch in range(1, epochs + 1):\n",
    "    train(model, train_loader, optimizer, epoch)"
   ]
  },
  {
   "cell_type": "code",
   "execution_count": null,
   "metadata": {},
   "outputs": [],
   "source": [
    "for i in range(10):\n",
    "    visualize_class_samples(model, class_label=i, num_samples=5)"
   ]
  }
 ],
 "metadata": {
  "kernelspec": {
   "display_name": "pytorch",
   "language": "python",
   "name": "python3"
  },
  "language_info": {
   "codemirror_mode": {
    "name": "ipython",
    "version": 3
   },
   "file_extension": ".py",
   "mimetype": "text/x-python",
   "name": "python",
   "nbconvert_exporter": "python",
   "pygments_lexer": "ipython3",
   "version": "3.8.18"
  }
 },
 "nbformat": 4,
 "nbformat_minor": 2
}
